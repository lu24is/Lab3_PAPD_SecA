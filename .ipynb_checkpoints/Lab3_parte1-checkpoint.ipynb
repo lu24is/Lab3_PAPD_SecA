{
 "cells": [
  {
   "cell_type": "markdown",
   "id": "36bef694-70eb-492a-abc3-41da374ec08e",
   "metadata": {},
   "source": [
    "# Parte 1: Numpy"
   ]
  },
  {
   "cell_type": "markdown",
   "id": "a90affd9-66cc-4252-8eaf-a8cc12b15645",
   "metadata": {},
   "source": [
    "### 1) ¿Cuál es el tamaño en bytes de un array de 1000 elementos de tipo booleano?"
   ]
  },
  {
   "cell_type": "code",
   "execution_count": 1,
   "id": "ad60fdba-ceef-4362-9bab-72cce242c2c8",
   "metadata": {
    "tags": []
   },
   "outputs": [
    {
     "name": "stdout",
     "output_type": "stream",
     "text": [
      "El array de 1000 elementos de tipo booleano tiene 1000 bytes.\n"
     ]
    }
   ],
   "source": [
    "import numpy as np\n",
    "\n",
    "array1 = np.zeros(1000, dtype=bool)\n",
    "\n",
    "tamaño = array1.nbytes\n",
    "\n",
    "print(f\"El array de 1000 elementos de tipo booleano tiene {tamaño} bytes.\")"
   ]
  },
  {
   "cell_type": "markdown",
   "id": "1345dd87-e2e5-4642-b614-d87fa80c180f",
   "metadata": {},
   "source": [
    "### 2) Cree un array cuyos elementos sean los enteros pares en [1,100] y en orden decreciente. Muestre los 10 últimos por pantalla."
   ]
  },
  {
   "cell_type": "code",
   "execution_count": 2,
   "id": "ef0c1a56-3c74-4d86-a094-5bf5927f3b69",
   "metadata": {
    "tags": []
   },
   "outputs": [
    {
     "name": "stdout",
     "output_type": "stream",
     "text": [
      "Los últimos 10 elementos del array son: [20 18 16 14 12 10  8  6  4  2]\n"
     ]
    }
   ],
   "source": [
    "array_2 = np.arange(100, 0, -2) #Crear el arreglo desde 100 a 0, saltandose 2 espacios para tomar solo los pares.\n",
    "\n",
    "print(\"Los últimos 10 elementos del array son:\", array_2[-10:])\n"
   ]
  },
  {
   "cell_type": "markdown",
   "id": "10c0b21e-fa5c-43b1-848e-13caba9347af",
   "metadata": {},
   "source": [
    "### 3) Dado el array, seleccionar los elementos"
   ]
  },
  {
   "cell_type": "code",
   "execution_count": 5,
   "id": "11a507c5-6cc1-4197-9cb5-6309ee35d799",
   "metadata": {
    "tags": []
   },
   "outputs": [
    {
     "name": "stdout",
     "output_type": "stream",
     "text": [
      "[0 3 7 4]\n",
      "[[2 5]\n",
      " [8 5]]\n"
     ]
    }
   ],
   "source": [
    "# Se crea el array proporcionado\n",
    "array3 = np.array([\n",
    "    [2, 4, 5, 6],\n",
    "    [0, 3, 7, 4],\n",
    "    [8, 8, 5, 2],\n",
    "    [1, 5, 6, 1]\n",
    "])\n",
    "\n",
    "# Seleccionando el array [0,3,7,4]\n",
    "subarray3_1 = array3[1, 0:]\n",
    "print(subarray3_1)\n",
    "\n",
    "# Sellecionando el array 2,5,8,5\n",
    "subarray3_2 = array3[[0, 2]][:, [0, 2]]\n",
    "\n",
    "print(subarray3_2)"
   ]
  },
  {
   "cell_type": "markdown",
   "id": "5fd4e9d9-75d7-4721-9d1d-4c5adf2699af",
   "metadata": {},
   "source": [
    "### 4) Dados los arrays a = [1, 4, 2, 7] y b = [1, 3, 2, 9], obtenga la media aritmética de la diferencia (a-b).."
   ]
  },
  {
   "cell_type": "code",
   "execution_count": 7,
   "id": "1f84df58-c71b-4450-b17b-f20afbe2b443",
   "metadata": {
    "tags": []
   },
   "outputs": [
    {
     "name": "stdout",
     "output_type": "stream",
     "text": [
      "La media aritmética de la diferencia entre los arrays a y b es: -0.25\n"
     ]
    }
   ],
   "source": [
    "a = np.array([1, 4, 2, 7])\n",
    "b = np.array([1, 3, 2, 9])\n",
    "\n",
    "diferencia = a - b\n",
    "\n",
    "# Calcular la media aritmética de las diferencias\n",
    "media_diferencia = np.mean(diferencia)\n",
    "\n",
    "print(\"La media aritmética de la diferencia entre los arrays a y b es:\", media_diferencia)\n"
   ]
  },
  {
   "cell_type": "markdown",
   "id": "68cd091e-dd92-4de2-b426-bb8fb17578a4",
   "metadata": {},
   "source": [
    "### 5) Tengo valores de coordenadas (x, y) en las columnas del array 1.33 4.5 30.0 10.7 70.2 0.5 Agregue a este array las coordenadas (37.1, -3.6). Muestre en pantalla las dimensiones del nuevo array."
   ]
  },
  {
   "cell_type": "code",
   "execution_count": 11,
   "id": "40412397-65a9-4e94-a543-cb9c328fef44",
   "metadata": {
    "tags": []
   },
   "outputs": [
    {
     "name": "stdout",
     "output_type": "stream",
     "text": [
      "Dimensiones del nuevo array: (4, 2)\n",
      "[[ 1.33  4.5 ]\n",
      " [30.   10.7 ]\n",
      " [70.2   0.5 ]\n",
      " [37.1  -3.6 ]]\n"
     ]
    }
   ],
   "source": [
    "array_original = np.array([\n",
    "    [1.33, 4.5],\n",
    "    [30.0, 10.7],\n",
    "    [70.2, 0.5]\n",
    "])\n",
    "\n",
    "# Creando nuevas coordenadas\n",
    "nuevas_coordenadas = np.array([[37.1, -3.6]])\n",
    "\n",
    "# Agregando las nuevas coordenadas al array original\n",
    "array5 = np.concatenate((array_original, nuevas_coordenadas), axis=0)\n",
    "\n",
    "# Mostrar las dimensiones del nuevo array\n",
    "print(\"Dimensiones del nuevo array:\", array5.shape)\n",
    "print(array5)"
   ]
  },
  {
   "cell_type": "markdown",
   "id": "8a3050b4-210d-4783-8e85-6e7f45023042",
   "metadata": {},
   "source": [
    "### Copie el array del ejercicio anterior. Traspóngalo. Agregue ahora dos nuevos pares de coordenadas: (10.8, 3.0) y (35.8, 12.0)."
   ]
  },
  {
   "cell_type": "code",
   "execution_count": 17,
   "id": "8d8ed613-e75c-4c1e-a908-6352965e1986",
   "metadata": {
    "tags": []
   },
   "outputs": [
    {
     "name": "stdout",
     "output_type": "stream",
     "text": [
      "[[ 1.33 30.   70.2 ]\n",
      " [ 4.5  10.7   0.5 ]]\n",
      "[[ 1.33 30.   70.2  10.8  35.8 ]\n",
      " [ 4.5  10.7   0.5   3.   12.  ]]\n"
     ]
    }
   ],
   "source": [
    "array_original2 = np.array([\n",
    "    [1.33, 4.5],\n",
    "    [30.0, 10.7],\n",
    "    [70.2, 0.5]\n",
    "])\n",
    "\n",
    "# Traspuesta del array\n",
    "array_traspuesto = np.transpose(array_original2)\n",
    "print(array_traspuesto) #verificamos que haya funcionado\n",
    "\n",
    "# Creando pares de coordenadas\n",
    "nuevas_coordenadas2 = np.array([[10.8, 3.0], [35.8, 12.0]])\n",
    "\n",
    "# Agregar las nuevas coordenadas al array traspuesto\n",
    "array_6 = np.concatenate((array_traspuesto, nuevas_coordenadas2.T), axis=1)\n",
    "print(array_6) #nuevo array traspuesto con nuevas coordenadas\n"
   ]
  }
 ],
 "metadata": {
  "kernelspec": {
   "display_name": "Python 3 (ipykernel)",
   "language": "python",
   "name": "python3"
  },
  "language_info": {
   "codemirror_mode": {
    "name": "ipython",
    "version": 3
   },
   "file_extension": ".py",
   "mimetype": "text/x-python",
   "name": "python",
   "nbconvert_exporter": "python",
   "pygments_lexer": "ipython3",
   "version": "3.11.5"
  }
 },
 "nbformat": 4,
 "nbformat_minor": 5
}
